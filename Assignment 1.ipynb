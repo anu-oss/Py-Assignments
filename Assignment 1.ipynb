{
  "nbformat": 4,
  "nbformat_minor": 0,
  "metadata": {
    "colab": {
      "name": "Untitled0.ipynb",
      "provenance": []
    },
    "kernelspec": {
      "name": "python3",
      "display_name": "Python 3"
    }
  },
  "cells": [
    {
      "cell_type": "code",
      "metadata": {
        "id": "tWk6zBTMeY3d"
      },
      "source": [
        "\r\n",
        "# Username and Password...\r\n",
        "# The programs purpose: A user must enter the correct username and password \r\n",
        "# The correct username is elmo and the correct password is blue.\r\n",
        "\r\n",
        "\r\n",
        "userName = input(\"Hello! \\n\\nUsername: \")\r\n",
        "password = input(\"Password: \") \r\n",
        "\r\n",
        "\r\n",
        "count = 0 \r\n",
        "count += 1 \r\n",
        "\r\n",
        "\r\n",
        "while userName == userName and password == password: # The Input will always lead to this while loop, so we can see if their username and password is wrong or correct.\r\n",
        "\r\n",
        "\r\n",
        "    if count == 3: # Counter, to make sure the user only gets a limited number (3)of attempts\r\n",
        "        print(\"\\nThree Username and Password Attempts used. Goodbye\") # Lets the user know they have reached their limit\r\n",
        "        break # Leave the Loop and the whole program\r\n",
        "\r\n",
        "\r\n",
        "    elif userName == 'elmo' and password == 'blue': # The userName and password is equal to 'elmo' and 'blue', which is correct, they can enter FaceSnap!\r\n",
        "        print(\"Welcome! \") # Welcomes the User, the username and password is correct\r\n",
        "        break # Leave the loop and the whole program as the username and passowrd is correct\r\n",
        "\r\n",
        "\r\n",
        "    elif userName != 'elmo' and password != 'blue': # The userName and password is NOT equal to 'elmo' and 'blue', the user cannot enter FaceSnap\r\n",
        "        print(\"Your Username and Password is wrong!\") # Lets the user know that the Username and password entered is wrong.\r\n",
        "        userName = input(\"\\n\\nUsername: \") # Requests the user to have another attempt at entering their correct username\r\n",
        "        password = input(\"Password: \") # Requests the user to have another attempt at entering their correct password\r\n",
        "        count += 1 # Increments the count by 1\r\n",
        "        continue # Continue, as the user hasn't managed to get their username and password correct yet\r\n",
        "\r\n",
        "\r\n",
        "    elif userName == 'elmo' and password != 'blue': # The userName is equal to 'elmo', but password is NOT equal to 'blue', the user cannot enter FaceSnap\r\n",
        "        print(\"Your Password is wrong!\") # Lets the user know that their password is wrong\r\n",
        "        userName = input(\"\\n\\nUsername: \") # Requests the user to have another attempt at entering their correct username\r\n",
        "        password = input(\"Password: \") # Requests the user to have another attempt at entering their correct password\r\n",
        "        count += 1 # increments the count by 1\r\n",
        "        continue # Continue, as the user hasn't managed to get their username and password correct yet\r\n",
        "\r\n",
        "\r\n",
        "    elif userName != 'elmo' and password == 'blue': # The userName is NOT equal to 'elmo', however password is equal to 'blue', the user cannot enter FaceSnap\r\n",
        "        print(\"Your Username is wrong!\") # Lets the user know that their username is wrong\r\n",
        "        userName = input(\"\\n\\nUsername: \") # Requests the user to have another attempt at entering their correct username\r\n",
        "        password = input(\"Password: \") # Requests the user to have another attempt at entering their correct password\r\n",
        "        count += 1 # Increments the count by 1\r\n",
        "        continue # Continue, as the user hasn't managed to get their username and password correct yet"
      ],
      "execution_count": null,
      "outputs": []
    }
  ]
}

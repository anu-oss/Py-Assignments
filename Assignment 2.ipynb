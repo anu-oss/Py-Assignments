{
  "nbformat": 4,
  "nbformat_minor": 0,
  "metadata": {
    "colab": {
      "name": "Untitled1.ipynb",
      "provenance": []
    },
    "kernelspec": {
      "name": "python3",
      "display_name": "Python 3"
    }
  },
  "cells": [
    {
      "cell_type": "code",
      "metadata": {
        "id": "lp5H7_IFLeQc"
      },
      "source": [
        "#Q1.\r\n",
        "my_list = [1, 2, 3, 1, 2, 4, 5, 4 ,6, 2]\r\n",
        "print(\"List Before \", my_list)\r\n",
        "temp_list = []\r\n",
        "\r\n",
        "for i in my_list:\r\n",
        "    if i not in temp_list:\r\n",
        "        temp_list.append(i)\r\n",
        "\r\n",
        "my_list = temp_list\r\n",
        "\r\n",
        "print(\"List After removing duplicates \", my_list)"
      ],
      "execution_count": null,
      "outputs": []
    },
    {
      "cell_type": "code",
      "metadata": {
        "id": "SAri6tjtLk-t"
      },
      "source": [
        "#Q2.\r\n",
        "list1 = [1, 3, 5, 7, 9]\r\n",
        "list2=[1, 2, 4, 6, 7, 8]\r\n",
        "diff_list1_list2 = list(set(list1) - set(list2))\r\n",
        "diff_list2_list1 = list(set(list2) - set(list1))\r\n",
        "total_diff = diff_list1_list2 + diff_list2_list1\r\n",
        "print(total_diff)"
      ],
      "execution_count": null,
      "outputs": []
    },
    {
      "cell_type": "code",
      "metadata": {
        "id": "qz384-7ULlXq"
      },
      "source": [
        "#Q3.\r\n",
        "import collections\r\n",
        "my_list = [10,10,10,10,20,20,20,20,40,40,50,50,30]\r\n",
        "print(\"Original List : \",my_list)\r\n",
        "ctr = collections.Counter(my_list)\r\n",
        "print(\"Frequency of the elements in the List : \",ctr)"
      ],
      "execution_count": null,
      "outputs": []
    },
    {
      "cell_type": "code",
      "metadata": {
        "colab": {
          "base_uri": "https://localhost:8080/"
        },
        "id": "1a-twjpKL3J1",
        "outputId": "0dbc7318-99ad-4a3e-9bb0-49712147f3e2"
      },
      "source": [
        "#Q4.\r\n",
        "a=[2,3,4,5]\r\n",
        "b=[3,5,7,9]\r\n",
        "\r\n",
        "def common(a,b): \r\n",
        "    c = [value for value in a if value in b] \r\n",
        "    return c\r\n",
        "\r\n",
        "d=common(a,b)\r\n",
        "print(d)"
      ],
      "execution_count": 1,
      "outputs": [
        {
          "output_type": "stream",
          "text": [
            "[3, 5]\n"
          ],
          "name": "stdout"
        }
      ]
    },
    {
      "cell_type": "code",
      "metadata": {
        "colab": {
          "base_uri": "https://localhost:8080/"
        },
        "id": "eTwL6FWmMhMD",
        "outputId": "437fab5a-ac69-48eb-ee72-20b3c31602c3"
      },
      "source": [
        "#Q5.\r\n",
        "def find_longest_word(words_list):  \r\n",
        "    word_len = []  \r\n",
        "    for n in words_list:  \r\n",
        "        word_len.append((len(n), n))  \r\n",
        "    word_len.sort()  \r\n",
        "    return word_len[-1][1]  \r\n",
        "  \r\n",
        "print(find_longest_word([\"PHP\", \"Exercises\", \"Backend\"]))  "
      ],
      "execution_count": 2,
      "outputs": [
        {
          "output_type": "stream",
          "text": [
            "Exercises\n"
          ],
          "name": "stdout"
        }
      ]
    },
    {
      "cell_type": "code",
      "metadata": {
        "id": "sTOyLMGHMhV_"
      },
      "source": [
        "#Q6.\r\n",
        "def word_count(str):\r\n",
        "    counts = dict()\r\n",
        "    words = str.split()\r\n",
        "\r\n",
        "    for word in words:\r\n",
        "        if word in counts:\r\n",
        "            counts[word] += 1\r\n",
        "        else:\r\n",
        "            counts[word] = 1\r\n",
        "\r\n",
        "    return counts\r\n",
        "\r\n",
        "print( word_count('the quick brown fox jumps over the lazy dog.'))"
      ],
      "execution_count": null,
      "outputs": []
    },
    {
      "cell_type": "code",
      "metadata": {
        "colab": {
          "base_uri": "https://localhost:8080/"
        },
        "id": "eH2Fo-iIMhfX",
        "outputId": "89d0b657-8b4d-40f6-cec5-2ca0fd4930ca"
      },
      "source": [
        "#Q7.\r\n",
        "def vowel(text):\r\n",
        "    vowels = \"aeiuoAEIOU\"\r\n",
        "    print(len([letter for letter in text if letter in vowels]))\r\n",
        "    print([letter for letter in text if letter in vowels])\r\n",
        "vowel('w3resource');"
      ],
      "execution_count": 3,
      "outputs": [
        {
          "output_type": "stream",
          "text": [
            "4\n",
            "['e', 'o', 'u', 'e']\n"
          ],
          "name": "stdout"
        }
      ]
    },
    {
      "cell_type": "code",
      "metadata": {
        "id": "ldpjXvNWMhjF"
      },
      "source": [
        "#Q8.\r\n",
        "n=int(input(\"Input a number \"))\r\n",
        "d = dict()\r\n",
        "\r\n",
        "for x in range(1,n+1):\r\n",
        "    d[x]=x*x\r\n",
        "\r\n",
        "print(d) "
      ],
      "execution_count": null,
      "outputs": []
    },
    {
      "cell_type": "code",
      "metadata": {
        "id": "HelskhHyMhl1"
      },
      "source": [
        "#Q9.\r\n",
        "from collections import Counter\r\n",
        "d1 = {'a': 100, 'b': 200, 'c':300}\r\n",
        "d2 = {'a': 300, 'b': 200, 'd':400}\r\n",
        "d = Counter(d1) + Counter(d2)\r\n",
        "print(d)"
      ],
      "execution_count": null,
      "outputs": []
    },
    {
      "cell_type": "code",
      "metadata": {
        "colab": {
          "base_uri": "https://localhost:8080/"
        },
        "id": "_MUePHmZNymX",
        "outputId": "ee57ac5c-6525-45ea-98e3-68289b8f3ff0"
      },
      "source": [
        "#Q10.\r\n",
        "L = [{\"V\":\"S001\"}, {\"V\": \"S002\"}, {\"VI\": \"S001\"}, {\"VI\": \"S005\"}, {\"VII\":\"S005\"}, {\"V\":\"S009\"},{\"VIII\":\"S007\"}]\r\n",
        "print(\"Original List: \",L)\r\n",
        "u_value = set( val for dic in L for val in dic.values())\r\n",
        "print(\"Unique Values: \",u_value)"
      ],
      "execution_count": 4,
      "outputs": [
        {
          "output_type": "stream",
          "text": [
            "Original List:  [{'V': 'S001'}, {'V': 'S002'}, {'VI': 'S001'}, {'VI': 'S005'}, {'VII': 'S005'}, {'V': 'S009'}, {'VIII': 'S007'}]\n",
            "Unique Values:  {'S001', 'S007', 'S002', 'S009', 'S005'}\n"
          ],
          "name": "stdout"
        }
      ]
    }
  ]
}
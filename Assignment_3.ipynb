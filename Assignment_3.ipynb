{
  "nbformat": 4,
  "nbformat_minor": 0,
  "metadata": {
    "colab": {
      "name": "Assignment 3.ipynb",
      "provenance": []
    },
    "kernelspec": {
      "name": "python3",
      "display_name": "Python 3"
    }
  },
  "cells": [
    {
      "cell_type": "code",
      "metadata": {
        "id": "kaCzUVtea0cG"
      },
      "source": [
        "#Q1\r\n",
        "def max_of_two( x, y ):\r\n",
        "    if x > y:\r\n",
        "        return x\r\n",
        "    return y\r\n",
        "def max_of_three( x, y, z ):\r\n",
        "    return max_of_two( x, max_of_two( y, z ) )\r\n",
        "print(max_of_three(3, 6, -5))\r\n"
      ],
      "execution_count": null,
      "outputs": []
    },
    {
      "cell_type": "code",
      "metadata": {
        "id": "h621l9lmbMko"
      },
      "source": [
        "#Q2\r\n",
        "string = input(\"Please enter your own String : \")\r\n",
        "str1 = \"\"\r\n",
        "\r\n",
        "for i in string:\r\n",
        "    str1 = i + str1  \r\n",
        "print(\"String in reverse Order :  \", str1)\r\n",
        "\r\n",
        "if(string == str1):\r\n",
        "   print(\"This is a Palindrome String\")\r\n",
        "else:\r\n",
        "   print(\"This is Not a Palindrome String\")"
      ],
      "execution_count": null,
      "outputs": []
    },
    {
      "cell_type": "code",
      "metadata": {
        "id": "dknp02gAbMyX"
      },
      "source": [
        "#Q3\r\n",
        "def string_test(s):\r\n",
        "    d={\"UPPER_CASE\":0, \"LOWER_CASE\":0}\r\n",
        "    for c in s:\r\n",
        "        if c.isupper():\r\n",
        "           d[\"UPPER_CASE\"]+=1\r\n",
        "        elif c.islower():\r\n",
        "           d[\"LOWER_CASE\"]+=1\r\n",
        "        else:\r\n",
        "           pass\r\n",
        "    print (\"Original String : \", s)\r\n",
        "    print (\"No. of Upper case characters : \", d[\"UPPER_CASE\"])\r\n",
        "    print (\"No. of Lower case Characters : \", d[\"LOWER_CASE\"])\r\n",
        "\r\n",
        "string_test('The quick Brown Fox')"
      ],
      "execution_count": null,
      "outputs": []
    },
    {
      "cell_type": "code",
      "metadata": {
        "id": "wCr8wABpbNAl"
      },
      "source": [
        "#Q4\r\n",
        "total = 0\r\n",
        "list1 = [11, 5, 17, 18, 23] \r\n",
        "\r\n",
        "for ele in range(0, len(list1)):\r\n",
        "\ttotal = total + list1[ele]\r\n",
        "\r\n",
        "print(\"Sum of all elements in given list: \", total)\r\n"
      ],
      "execution_count": null,
      "outputs": []
    },
    {
      "cell_type": "code",
      "metadata": {
        "id": "3jXj0UskbNWT"
      },
      "source": [
        "#Q5\r\n",
        "def multiply(numbers):  \r\n",
        "    total = 1\r\n",
        "    for x in numbers:\r\n",
        "        total *= x  \r\n",
        "    return total  \r\n",
        "print(multiply((8, 2, 3, -1, 7)))"
      ],
      "execution_count": null,
      "outputs": []
    },
    {
      "cell_type": "code",
      "metadata": {
        "id": "PpptTK0dcJtl"
      },
      "source": [
        "#Q6\r\n",
        "def unique_list(l):\r\n",
        "  x = []\r\n",
        "  for a in l:\r\n",
        "    if a not in x:\r\n",
        "      x.append(a)\r\n",
        "  return x\r\n",
        "\r\n",
        "print(unique_list([1,2,3,3,3,3,4,5,5,6,6,6])) "
      ],
      "execution_count": null,
      "outputs": []
    }
  ]
}